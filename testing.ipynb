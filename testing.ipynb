{
 "cells": [
  {
   "cell_type": "code",
   "execution_count": 1,
   "metadata": {},
   "outputs": [
    {
     "data": {
      "application/vnd.jupyter.widget-view+json": {
       "model_id": "43ad57a0a72c4954a2d9f8dc5e52da12",
       "version_major": 2,
       "version_minor": 0
      },
      "text/plain": [
       "interactive(children=(IntSlider(value=0, description='angle_upper_leg', max=180, min=-180), IntSlider(value=0,…"
      ]
     },
     "metadata": {},
     "output_type": "display_data"
    }
   ],
   "source": [
    "import matplotlib.pyplot as plt\n",
    "from ipywidgets import interact\n",
    "import numpy as np\n",
    "\n",
    "# Define the lengths of the leg segments\n",
    "length_upper_leg = 4\n",
    "length_lower_leg = 3\n",
    "\n",
    "def plot_dog_leg(angle_upper_leg, angle_lower_leg):\n",
    "    # Convert angles to radians for calculations\n",
    "    angle_upper_leg_rad = np.radians(angle_upper_leg)\n",
    "    angle_lower_leg_rad = np.radians(angle_lower_leg)\n",
    "\n",
    "    # Calculate the end position of the upper leg segment\n",
    "    end_upper_leg_x = length_upper_leg * np.cos(angle_upper_leg_rad)\n",
    "    end_upper_leg_y = length_upper_leg * np.sin(angle_upper_leg_rad)\n",
    "\n",
    "    # Calculate the end position of the lower leg segment relative to the end of the upper leg\n",
    "    end_lower_leg_x = end_upper_leg_x + length_lower_leg * np.cos(angle_upper_leg_rad + angle_lower_leg_rad)\n",
    "    end_lower_leg_y = end_upper_leg_y + length_lower_leg * np.sin(angle_upper_leg_rad + angle_lower_leg_rad)\n",
    "\n",
    "    # Plotting\n",
    "    plt.figure(figsize=(8, 6))\n",
    "    plt.plot([0, end_upper_leg_x], [0, end_upper_leg_y], 'ro-', label='Upper Leg')\n",
    "    plt.plot([end_upper_leg_x, end_lower_leg_x], [end_upper_leg_y, end_lower_leg_y], 'bo-', label='Lower Leg')\n",
    "    plt.xlim(-10, 10)\n",
    "    plt.ylim(-10, 10)\n",
    "    plt.axhline(0, color='black', linewidth=0.5)\n",
    "    plt.axvline(0, color='black', linewidth=0.5)\n",
    "    plt.grid(True)\n",
    "    plt.xlabel('X')\n",
    "    plt.ylabel('Y')\n",
    "    plt.title('Dog Leg Simulation with Interactive Angles')\n",
    "    plt.legend()\n",
    "    plt.show()\n",
    "\n",
    "# Create sliders using interact\n",
    "interact(plot_dog_leg, angle_upper_leg=(-180, 180), angle_lower_leg=(-180, 180));\n"
   ]
  }
 ],
 "metadata": {
  "kernelspec": {
   "display_name": "Python 3",
   "language": "python",
   "name": "python3"
  },
  "language_info": {
   "codemirror_mode": {
    "name": "ipython",
    "version": 3
   },
   "file_extension": ".py",
   "mimetype": "text/x-python",
   "name": "python",
   "nbconvert_exporter": "python",
   "pygments_lexer": "ipython3",
   "version": "3.8.6"
  }
 },
 "nbformat": 4,
 "nbformat_minor": 2
}
